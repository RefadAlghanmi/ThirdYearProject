{
 "cells": [
  {
   "cell_type": "code",
   "execution_count": 1,
   "id": "0b5e3bbf-35dd-45e5-8beb-9e902905773d",
   "metadata": {},
   "outputs": [],
   "source": [
    "import os\n",
    "import json\n",
    "import numpy as np\n",
    "import matplotlib.pyplot as plt\n",
    "import matplotlib.patches as patches\n",
    "from tensorflow.keras.models import Sequential\n",
    "from tensorflow.keras.layers import Input, Conv2D, MaxPooling2D, Flatten, Dense, Dropout, Reshape\n",
    "from tensorflow.keras.optimizers import Adam\n",
    "from tensorflow.keras.losses import MeanSquaredError\n",
    "from sklearn.model_selection import train_test_split\n",
    "from tensorflow.keras.preprocessing.image import ImageDataGenerator"
   ]
  },
  {
   "cell_type": "code",
   "execution_count": 2,
   "id": "b88c5e6a-49bf-48dd-b2b5-23bf1502cd15",
   "metadata": {},
   "outputs": [],
   "source": [
    "# Load heatmap JSON data\n",
    "def load_heatmap_data(file_paths, img_size=(800,800),num_boxes = 6):\n",
    "    images = []\n",
    "    labels = []\n",
    "    label_set = set()  # Collect all unique labels dynamically\n",
    "\n",
    "    for file_path in file_paths:\n",
    "        with open(file_path, 'r') as f:\n",
    "            data = json.load(f)\n",
    "            \n",
    "            # Check if 'shapes' exists and is not None\n",
    "            if 'shapes' not in data or data['shapes'] is None:\n",
    "                print(f\"Warning: 'shapes' key missing or None in {file_path}\")\n",
    "                continue\n",
    "                \n",
    "            shapes = data['shapes']\n",
    "\n",
    "            # Create a blank heatmap\n",
    "            heatmap = np.zeros(img_size)\n",
    "\n",
    "            # Collect labels for this image\n",
    "            image_labels = []\n",
    "\n",
    "            for shape in shapes:\n",
    "                if 'label' not in shape:\n",
    "                    print(f\"Warning: 'label' missing in {file_path}\")\n",
    "                    continue\n",
    "\n",
    "                label = shape['label']\n",
    "                points = shape['points']\n",
    "\n",
    "                # Extract bounding box coordinates\n",
    "                x1, y1 = points[0]\n",
    "                x2, y2 = points[1]\n",
    "\n",
    "                # Scale down coordinates to match img-size\n",
    "                scale_x = img_size[0] / 1280  \n",
    "                scale_y = img_size[1] / 1024  \n",
    "\n",
    "                x1, x2 = int(x1 * scale_x), int(x2 * scale_x)\n",
    "                y1, y2 = int(y1 * scale_y), int(y2 * scale_y)\n",
    "\n",
    "                image_labels.append([x1, y1, x2, y2])\n",
    "                label_set.add(label)\n",
    "            # Standardize the number of bounding boxes to 'num_boxes'\n",
    "            if len(image_labels) < num_boxes:\n",
    "                # Pad with dummy bounding boxes\n",
    "                for _ in range(num_boxes - len(image_labels)):\n",
    "                    image_labels.append([0, 0, 0, 0])\n",
    "            elif len(image_labels) > num_boxes:\n",
    "                # Truncate extra boxes\n",
    "                image_labels = image_labels[:num_boxes]\n",
    "                \n",
    "            images.append(heatmap)\n",
    "            labels.append(image_labels)\n",
    "\n",
    "    label_classes = sorted(label_set)\n",
    "    labels = np.array(labels)\n",
    "\n",
    "    return np.array(images), labels, label_classes"
   ]
  },
  {
   "cell_type": "code",
   "execution_count": 3,
   "id": "f4bc69d3-f5fe-4703-8f3c-c6bcde398a69",
   "metadata": {},
   "outputs": [],
   "source": [
    "# File paths for JSON heatmaps\n",
    "json_files = [\n",
    "    \"heatmap[1800,2400].json\", \"heatmap[3000,3600].json\", \"heatmap[3800,4400].json\",\n",
    "    \"heatmap[4700,5400].json\", \"heatmap[5600,6300].json\", \"heatmap[6500,7200].json\",\n",
    "    \"heatmap[7300,8000].json\", \"heatmap[8100,8800].json\", \"heatmap[8900,9600].json\",\n",
    "    \"heatmap[10600,11100].json\"\n",
    "]"
   ]
  },
  {
   "cell_type": "code",
   "execution_count": 4,
   "id": "f256ef88-91bd-42b2-96d3-65bf8430b982",
   "metadata": {},
   "outputs": [],
   "source": [
    "# ✅ Load data\n",
    "images, labels_encoded, label_classes = load_heatmap_data(json_files,  img_size=(800,800))"
   ]
  },
  {
   "cell_type": "code",
   "execution_count": 5,
   "id": "f6c9086e-bef1-43cb-a379-99a80c4c0bb1",
   "metadata": {},
   "outputs": [
    {
     "name": "stdout",
     "output_type": "stream",
     "text": [
      "Images Shape: (10, 800, 800)\n",
      "Encoded Labels Shape: (10, 6, 4)\n",
      "Unique Labels: ['Bx_ROI1', 'Bx_ROI2', 'Bz_ROI3', 'Bz_ROI4', 'Bz_ROI5', 'Bz_ROI6', 'ROI']\n"
     ]
    }
   ],
   "source": [
    "# ✅ Debugging\n",
    "print(\"Images Shape:\", images.shape)\n",
    "print(\"Encoded Labels Shape:\", labels_encoded.shape)\n",
    "print(\"Unique Labels:\", label_classes)\n"
   ]
  },
  {
   "cell_type": "code",
   "execution_count": 6,
   "id": "e21d1178-919f-4644-9ee1-c632e7fcc048",
   "metadata": {
    "scrolled": true
   },
   "outputs": [],
   "source": [
    "# ✅ Reshape labels correctly if needed\n",
    "if labels_encoded.shape[1] == 64:\n",
    "    labels_encoded = labels_encoded.reshape(-1, 6, 4)  # Ensure (num_samples, 6, 4)"
   ]
  },
  {
   "cell_type": "code",
   "execution_count": 7,
   "id": "25e39560-7e8c-44f5-95a2-bb96f246e7bb",
   "metadata": {},
   "outputs": [],
   "source": [
    "# ✅ Split dataset\n",
    "X_train, X_test, y_train, y_test = train_test_split(\n",
    "    images, labels_encoded, test_size=0.2, random_state=42\n",
    ")"
   ]
  },
  {
   "cell_type": "code",
   "execution_count": 8,
   "id": "753c2ad4-87a5-47c9-b85c-9be8b3960d72",
   "metadata": {},
   "outputs": [],
   "source": [
    "# ✅ Reshape images to include a channel dimension\n",
    "X_train = X_train.reshape(-1, 800, 800, 1)\n",
    "X_test = X_test.reshape(-1, 800, 800, 1)"
   ]
  },
  {
   "cell_type": "code",
   "execution_count": 9,
   "id": "94615ae9-ccbf-4456-9d2b-93ec8bbc29a4",
   "metadata": {},
   "outputs": [],
   "source": [
    "# ✅ Normalize bounding boxes (scale 0-1)\n",
    "y_train = y_train / 800\n",
    "y_test = y_test / 800"
   ]
  },
  {
   "cell_type": "code",
   "execution_count": 10,
   "id": "e4bec014-d2e3-4bc5-b47c-90e4eef0fb33",
   "metadata": {},
   "outputs": [],
   "source": [
    "# ✅ Data Augmentation\n",
    "datagen = ImageDataGenerator(\n",
    "    rotation_range=20,\n",
    "    width_shift_range=0.2,\n",
    "    height_shift_range=0.2,\n",
    "    horizontal_flip=True,\n",
    "    zoom_range=0.2\n",
    ")\n",
    "datagen.fit(X_train)"
   ]
  },
  {
   "cell_type": "code",
   "execution_count": 11,
   "id": "fb400dd6-0627-40e1-99dc-4fcf8f30b4d8",
   "metadata": {},
   "outputs": [],
   "source": [
    "# ✅ CNN Model\n",
    "model = Sequential([\n",
    "    Input(shape=(800, 800, 1)),\n",
    "    Conv2D(32, (3, 3), activation='relu', padding='same'),\n",
    "    MaxPooling2D((2, 2)),\n",
    "    Conv2D(64, (3, 3), activation='relu', padding='same'),\n",
    "    MaxPooling2D((2, 2)),\n",
    "    Conv2D(128, (3, 3), activation='relu', padding='same'),\n",
    "    MaxPooling2D((2, 2)),\n",
    "    Flatten(),\n",
    "    Dense(256, activation='relu'),\n",
    "    Dropout(0.5),\n",
    "    Dense(6 * 4, activation='linear'),  # Output layer for bounding box regression\n",
    "    Reshape((6, 4))  # Ensure output matches (6,4)\n",
    "])"
   ]
  },
  {
   "cell_type": "code",
   "execution_count": 12,
   "id": "9514afba-25c3-4d51-9815-9893fbb493bf",
   "metadata": {},
   "outputs": [],
   "source": [
    "# ✅ Compile model with Mean Squared Error for bounding box regression\n",
    "model.compile(\n",
    "    optimizer=Adam(learning_rate=0.0005), \n",
    "    loss=MeanSquaredError(),\n",
    "    metrics=['mae']\n",
    ")"
   ]
  },
  {
   "cell_type": "code",
   "execution_count": 13,
   "id": "91f14304-687a-49a5-80f9-774adfddcd0c",
   "metadata": {},
   "outputs": [
    {
     "name": "stdout",
     "output_type": "stream",
     "text": [
      "y_train shape: (8, 6, 4)\n",
      "y_test shape: (2, 6, 4)\n"
     ]
    }
   ],
   "source": [
    "# ✅ Check dataset before training\n",
    "print(\"y_train shape:\", y_train.shape)  # Should be (num_samples, 6, 4)\n",
    "print(\"y_test shape:\", y_test.shape)"
   ]
  },
  {
   "cell_type": "code",
   "execution_count": 14,
   "id": "86483a6c-9054-4188-b3d3-2e881dc4a314",
   "metadata": {},
   "outputs": [
    {
     "name": "stdout",
     "output_type": "stream",
     "text": [
      "Epoch 1/30\n",
      "\u001b[1m1/1\u001b[0m \u001b[32m━━━━━━━━━━━━━━━━━━━━\u001b[0m\u001b[37m\u001b[0m \u001b[1m19s\u001b[0m 19s/step - loss: 0.4016 - mae: 0.5480 - val_loss: 0.4345 - val_mae: 0.6031\n",
      "Epoch 2/30\n",
      "\u001b[1m1/1\u001b[0m \u001b[32m━━━━━━━━━━━━━━━━━━━━\u001b[0m\u001b[37m\u001b[0m \u001b[1m10s\u001b[0m 10s/step - loss: 0.4011 - mae: 0.5476 - val_loss: 0.4339 - val_mae: 0.6026\n",
      "Epoch 3/30\n",
      "\u001b[1m1/1\u001b[0m \u001b[32m━━━━━━━━━━━━━━━━━━━━\u001b[0m\u001b[37m\u001b[0m \u001b[1m9s\u001b[0m 9s/step - loss: 0.4005 - mae: 0.5472 - val_loss: 0.4333 - val_mae: 0.6021\n",
      "Epoch 4/30\n",
      "\u001b[1m1/1\u001b[0m \u001b[32m━━━━━━━━━━━━━━━━━━━━\u001b[0m\u001b[37m\u001b[0m \u001b[1m9s\u001b[0m 9s/step - loss: 0.4000 - mae: 0.5468 - val_loss: 0.4327 - val_mae: 0.6016\n",
      "Epoch 5/30\n",
      "\u001b[1m1/1\u001b[0m \u001b[32m━━━━━━━━━━━━━━━━━━━━\u001b[0m\u001b[37m\u001b[0m \u001b[1m10s\u001b[0m 10s/step - loss: 0.3995 - mae: 0.5464 - val_loss: 0.4321 - val_mae: 0.6011\n",
      "Epoch 6/30\n",
      "\u001b[1m1/1\u001b[0m \u001b[32m━━━━━━━━━━━━━━━━━━━━\u001b[0m\u001b[37m\u001b[0m \u001b[1m8s\u001b[0m 8s/step - loss: 0.3989 - mae: 0.5460 - val_loss: 0.4315 - val_mae: 0.6006\n",
      "Epoch 7/30\n",
      "\u001b[1m1/1\u001b[0m \u001b[32m━━━━━━━━━━━━━━━━━━━━\u001b[0m\u001b[37m\u001b[0m \u001b[1m11s\u001b[0m 11s/step - loss: 0.3984 - mae: 0.5456 - val_loss: 0.4309 - val_mae: 0.6001\n",
      "Epoch 8/30\n",
      "\u001b[1m1/1\u001b[0m \u001b[32m━━━━━━━━━━━━━━━━━━━━\u001b[0m\u001b[37m\u001b[0m \u001b[1m10s\u001b[0m 10s/step - loss: 0.3978 - mae: 0.5452 - val_loss: 0.4303 - val_mae: 0.5996\n",
      "Epoch 9/30\n",
      "\u001b[1m1/1\u001b[0m \u001b[32m━━━━━━━━━━━━━━━━━━━━\u001b[0m\u001b[37m\u001b[0m \u001b[1m10s\u001b[0m 10s/step - loss: 0.3973 - mae: 0.5448 - val_loss: 0.4297 - val_mae: 0.5991\n",
      "Epoch 10/30\n",
      "\u001b[1m1/1\u001b[0m \u001b[32m━━━━━━━━━━━━━━━━━━━━\u001b[0m\u001b[37m\u001b[0m \u001b[1m9s\u001b[0m 9s/step - loss: 0.3967 - mae: 0.5444 - val_loss: 0.4291 - val_mae: 0.5986\n",
      "Epoch 11/30\n",
      "\u001b[1m1/1\u001b[0m \u001b[32m━━━━━━━━━━━━━━━━━━━━\u001b[0m\u001b[37m\u001b[0m \u001b[1m10s\u001b[0m 10s/step - loss: 0.3962 - mae: 0.5440 - val_loss: 0.4285 - val_mae: 0.5981\n",
      "Epoch 12/30\n",
      "\u001b[1m1/1\u001b[0m \u001b[32m━━━━━━━━━━━━━━━━━━━━\u001b[0m\u001b[37m\u001b[0m \u001b[1m9s\u001b[0m 9s/step - loss: 0.3956 - mae: 0.5436 - val_loss: 0.4279 - val_mae: 0.5976\n",
      "Epoch 13/30\n",
      "\u001b[1m1/1\u001b[0m \u001b[32m━━━━━━━━━━━━━━━━━━━━\u001b[0m\u001b[37m\u001b[0m \u001b[1m10s\u001b[0m 10s/step - loss: 0.3951 - mae: 0.5432 - val_loss: 0.4273 - val_mae: 0.5971\n",
      "Epoch 14/30\n",
      "\u001b[1m1/1\u001b[0m \u001b[32m━━━━━━━━━━━━━━━━━━━━\u001b[0m\u001b[37m\u001b[0m \u001b[1m9s\u001b[0m 9s/step - loss: 0.3946 - mae: 0.5428 - val_loss: 0.4267 - val_mae: 0.5966\n",
      "Epoch 15/30\n",
      "\u001b[1m1/1\u001b[0m \u001b[32m━━━━━━━━━━━━━━━━━━━━\u001b[0m\u001b[37m\u001b[0m \u001b[1m11s\u001b[0m 11s/step - loss: 0.3940 - mae: 0.5424 - val_loss: 0.4261 - val_mae: 0.5961\n",
      "Epoch 16/30\n",
      "\u001b[1m1/1\u001b[0m \u001b[32m━━━━━━━━━━━━━━━━━━━━\u001b[0m\u001b[37m\u001b[0m \u001b[1m9s\u001b[0m 9s/step - loss: 0.3935 - mae: 0.5421 - val_loss: 0.4255 - val_mae: 0.5956\n",
      "Epoch 17/30\n",
      "\u001b[1m1/1\u001b[0m \u001b[32m━━━━━━━━━━━━━━━━━━━━\u001b[0m\u001b[37m\u001b[0m \u001b[1m10s\u001b[0m 10s/step - loss: 0.3929 - mae: 0.5417 - val_loss: 0.4249 - val_mae: 0.5951\n",
      "Epoch 18/30\n",
      "\u001b[1m1/1\u001b[0m \u001b[32m━━━━━━━━━━━━━━━━━━━━\u001b[0m\u001b[37m\u001b[0m \u001b[1m9s\u001b[0m 9s/step - loss: 0.3924 - mae: 0.5413 - val_loss: 0.4244 - val_mae: 0.5946\n",
      "Epoch 19/30\n",
      "\u001b[1m1/1\u001b[0m \u001b[32m━━━━━━━━━━━━━━━━━━━━\u001b[0m\u001b[37m\u001b[0m \u001b[1m10s\u001b[0m 10s/step - loss: 0.3919 - mae: 0.5409 - val_loss: 0.4238 - val_mae: 0.5941\n",
      "Epoch 20/30\n",
      "\u001b[1m1/1\u001b[0m \u001b[32m━━━━━━━━━━━━━━━━━━━━\u001b[0m\u001b[37m\u001b[0m \u001b[1m9s\u001b[0m 9s/step - loss: 0.3913 - mae: 0.5405 - val_loss: 0.4232 - val_mae: 0.5936\n",
      "Epoch 21/30\n",
      "\u001b[1m1/1\u001b[0m \u001b[32m━━━━━━━━━━━━━━━━━━━━\u001b[0m\u001b[37m\u001b[0m \u001b[1m9s\u001b[0m 9s/step - loss: 0.3908 - mae: 0.5401 - val_loss: 0.4226 - val_mae: 0.5931\n",
      "Epoch 22/30\n",
      "\u001b[1m1/1\u001b[0m \u001b[32m━━━━━━━━━━━━━━━━━━━━\u001b[0m\u001b[37m\u001b[0m \u001b[1m9s\u001b[0m 9s/step - loss: 0.3903 - mae: 0.5397 - val_loss: 0.4220 - val_mae: 0.5926\n",
      "Epoch 23/30\n",
      "\u001b[1m1/1\u001b[0m \u001b[32m━━━━━━━━━━━━━━━━━━━━\u001b[0m\u001b[37m\u001b[0m \u001b[1m11s\u001b[0m 11s/step - loss: 0.3897 - mae: 0.5393 - val_loss: 0.4214 - val_mae: 0.5922\n",
      "Epoch 24/30\n",
      "\u001b[1m1/1\u001b[0m \u001b[32m━━━━━━━━━━━━━━━━━━━━\u001b[0m\u001b[37m\u001b[0m \u001b[1m9s\u001b[0m 9s/step - loss: 0.3892 - mae: 0.5389 - val_loss: 0.4208 - val_mae: 0.5917\n",
      "Epoch 25/30\n",
      "\u001b[1m1/1\u001b[0m \u001b[32m━━━━━━━━━━━━━━━━━━━━\u001b[0m\u001b[37m\u001b[0m \u001b[1m9s\u001b[0m 9s/step - loss: 0.3887 - mae: 0.5385 - val_loss: 0.4202 - val_mae: 0.5912\n",
      "Epoch 26/30\n",
      "\u001b[1m1/1\u001b[0m \u001b[32m━━━━━━━━━━━━━━━━━━━━\u001b[0m\u001b[37m\u001b[0m \u001b[1m9s\u001b[0m 9s/step - loss: 0.3881 - mae: 0.5381 - val_loss: 0.4196 - val_mae: 0.5907\n",
      "Epoch 27/30\n",
      "\u001b[1m1/1\u001b[0m \u001b[32m━━━━━━━━━━━━━━━━━━━━\u001b[0m\u001b[37m\u001b[0m \u001b[1m9s\u001b[0m 9s/step - loss: 0.3876 - mae: 0.5377 - val_loss: 0.4190 - val_mae: 0.5902\n",
      "Epoch 28/30\n",
      "\u001b[1m1/1\u001b[0m \u001b[32m━━━━━━━━━━━━━━━━━━━━\u001b[0m\u001b[37m\u001b[0m \u001b[1m9s\u001b[0m 9s/step - loss: 0.3871 - mae: 0.5373 - val_loss: 0.4185 - val_mae: 0.5897\n",
      "Epoch 29/30\n",
      "\u001b[1m1/1\u001b[0m \u001b[32m━━━━━━━━━━━━━━━━━━━━\u001b[0m\u001b[37m\u001b[0m \u001b[1m11s\u001b[0m 11s/step - loss: 0.3865 - mae: 0.5369 - val_loss: 0.4179 - val_mae: 0.5892\n",
      "Epoch 30/30\n",
      "\u001b[1m1/1\u001b[0m \u001b[32m━━━━━━━━━━━━━━━━━━━━\u001b[0m\u001b[37m\u001b[0m \u001b[1m9s\u001b[0m 9s/step - loss: 0.3860 - mae: 0.5366 - val_loss: 0.4173 - val_mae: 0.5887\n"
     ]
    },
    {
     "data": {
      "text/plain": [
       "<keras.src.callbacks.history.History at 0x24747ebf170>"
      ]
     },
     "execution_count": 14,
     "metadata": {},
     "output_type": "execute_result"
    }
   ],
   "source": [
    "# ✅ Train the model\n",
    "model.fit(X_train, y_train, batch_size=32, epochs=30, validation_data=(X_test, y_test))\n"
   ]
  },
  {
   "cell_type": "code",
   "execution_count": 15,
   "id": "d4bec7cb-8acc-443b-97da-80dd3577de51",
   "metadata": {
    "scrolled": true
   },
   "outputs": [
    {
     "name": "stdout",
     "output_type": "stream",
     "text": [
      "\u001b[1m1/1\u001b[0m \u001b[32m━━━━━━━━━━━━━━━━━━━━\u001b[0m\u001b[37m\u001b[0m \u001b[1m0s\u001b[0m 459ms/step - loss: 0.4173 - mae: 0.5887\n",
      "Test MAE: 0.59\n"
     ]
    }
   ],
   "source": [
    "# ✅ Evaluate the model\n",
    "loss, mae = model.evaluate(X_test, y_test)\n",
    "print(f\"Test MAE: {mae:.2f}\")"
   ]
  },
  {
   "cell_type": "code",
   "execution_count": 35,
   "id": "fd1367bd-6900-41ec-be82-c6e101c10b42",
   "metadata": {},
   "outputs": [],
   "source": [
    "# ✅ Visualize test image with bounding boxes\n",
    "def plot_test_image_with_rois(image, labels, label_classes):\n",
    "    fig, ax = plt.subplots(1, figsize=(6, 6))\n",
    "    ax.imshow(image.squeeze(), cmap='gray')\n",
    "    \n",
    "    for i, bbox in enumerate(labels):\n",
    "        x1, y1, x2, y2 = bbox * 800  # Rescale to original dimensions\n",
    "        rect = patches.Rectangle((x1, y1), x2-x1, y2-y1, linewidth=2, edgecolor='r', facecolor='none')\n",
    "        ax.add_patch(rect)\n",
    "        ax.text(x1, y1 - 5, label_classes[i], color='r', fontsize=12, weight='bold')\n",
    "\n",
    "    plt.title(\"Test Image with ROIs\")\n",
    "    plt.axis(\"off\")\n",
    "    plt.show()"
   ]
  },
  {
   "cell_type": "code",
   "execution_count": 37,
   "id": "9d30cee5-1b31-4ff7-b108-f529558a3256",
   "metadata": {},
   "outputs": [
    {
     "data": {
      "image/png": "[encoded data removed]",
      "text/plain": [
       "<Figure size 600x600 with 1 Axes>"
      ]
     },
     "metadata": {},
     "output_type": "display_data"
    }
   ],
   "source": [
    "# ✅ Show test image with bounding boxes\n",
    "sample_idx = 0\n",
    "plot_test_image_with_rois(X_test[sample_idx], y_test[sample_idx], label_classes)"
   ]
  },
  {
   "cell_type": "code",
   "execution_count": null,
   "id": "778bc54b-fa3b-4a98-81ba-72c2a4897697",
   "metadata": {},
   "outputs": [],
   "source": []
  }
 ],
 "metadata": {
  "kernelspec": {
   "display_name": "Python 3 (ipykernel)",
   "language": "python",
   "name": "python3"
  },
  "language_info": {
   "codemirror_mode": {
    "name": "ipython",
    "version": 3
   },
   "file_extension": ".py",
   "mimetype": "text/x-python",
   "name": "python",
   "nbconvert_exporter": "python",
   "pygments_lexer": "ipython3",
   "version": "3.12.4"
  }
 },
 "nbformat": 4,
 "nbformat_minor": 5
}
